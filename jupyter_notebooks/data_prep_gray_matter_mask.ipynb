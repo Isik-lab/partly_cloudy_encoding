{
 "cells": [
  {
   "cell_type": "code",
   "execution_count": 2,
   "id": "2d4f032d",
   "metadata": {},
   "outputs": [
    {
     "data": {
      "application/javascript": [
       "IPython.notebook.set_autosave_interval(5000)"
      ]
     },
     "metadata": {},
     "output_type": "display_data"
    },
    {
     "name": "stdout",
     "output_type": "stream",
     "text": [
      "Autosaving every 5 seconds\n"
     ]
    }
   ],
   "source": [
    "#### Imports\n",
    "import os \n",
    "import numpy as np\n",
    "import data_prep_helpers\n",
    "from nibabel import load as load_nifti\n",
    "\n",
    "# Notebook specific imports\n",
    "import warnings\n",
    "import sys \n",
    "if not sys.warnoptions:\n",
    "    warnings.simplefilter(\"ignore\")\n",
    "%autosave 5"
   ]
  },
  {
   "cell_type": "markdown",
   "id": "cee2a76b",
   "metadata": {},
   "source": [
    "<h2>Get gray matter mask</h2>"
   ]
  },
  {
   "cell_type": "markdown",
   "id": "69bffd10",
   "metadata": {},
   "source": [
    "<h3>Generate new mask using whole-brain group mask</h3>"
   ]
  },
  {
   "cell_type": "code",
   "execution_count": 4,
   "id": "d7b46b49",
   "metadata": {},
   "outputs": [
    {
     "name": "stdout",
     "output_type": "stream",
     "text": [
      "Gray matter mask: (79, 95, 68)\n"
     ]
    }
   ],
   "source": [
    "# Use whole-brain group mask to create group gray matter mask\n",
    "from nilearn import image, datasets\n",
    "\n",
    "group_mask = load_mask(os.path.join(os.path.expanduser('~'), 'Documents', 'Data', 'group_mask.nii.gz'))\n",
    "group_gm_mask = image.resample_img(img=datasets.load_mni152_gm_mask(),\n",
    "                                   target_affine=group_mask.affine,\n",
    "                                   target_shape=(79, 95, 68))\n",
    "\n",
    "print('Gray matter mask:', np.shape(group_gm_mask))"
   ]
  },
  {
   "cell_type": "code",
   "execution_count": 5,
   "id": "ea93644d",
   "metadata": {},
   "outputs": [
    {
     "name": "stdout",
     "output_type": "stream",
     "text": [
      "Saved successfully\n"
     ]
    }
   ],
   "source": [
    "# Save results\n",
    "group_gm_mask.to_filename(os.path.join(os.path.expanduser('~'), 'Documents', 'Data', 'group_gm_mask.nii.gz'))\n",
    "print('Saved successfully')"
   ]
  },
  {
   "cell_type": "markdown",
   "id": "81e76f7d",
   "metadata": {},
   "source": [
    "<h3>Load previously generated mask</h3>"
   ]
  },
  {
   "cell_type": "code",
   "execution_count": 3,
   "id": "2fc11437",
   "metadata": {},
   "outputs": [
    {
     "name": "stdout",
     "output_type": "stream",
     "text": [
      "Gray matter mask: (79, 95, 68)\n"
     ]
    }
   ],
   "source": [
    "group_gm_mask = load_nifti(os.path.join(os.path.expanduser('~'), 'Documents', 'Data', 'group_gm_mask.nii.gz'))\n",
    "print('Gray matter mask:', np.shape(group_gm_mask))"
   ]
  },
  {
   "cell_type": "markdown",
   "id": "655e5a1b",
   "metadata": {},
   "source": [
    "<h2>Load BOLD data</h2>"
   ]
  },
  {
   "cell_type": "code",
   "execution_count": 4,
   "id": "49607bf2",
   "metadata": {},
   "outputs": [],
   "source": [
    "def mask_trim_normalize(directory, subject_ids, mask):\n",
    "    \"\"\"\n",
    "        Load nuisance-regressed bold data, apply a mask to it, then trim and normalize it.\n",
    "        Returns masked, trimmed, normalized data.\n",
    "    \"\"\"\n",
    "    bold_data = data_prep_helpers.load_clean_data(subject_range=subject_ids, directory=directory)\n",
    "    masked_data = data_prep_helpers.apply_nifti_mask(bold_data=bold_data, mask=mask)\n",
    "    trimmed_data = data_prep_helpers.trim_blank_trs(masked_data)\n",
    "    normalized_data = data_prep_helpers.normalize_data(trimmed_data)\n",
    "    return normalized_data\n"
   ]
  },
  {
   "cell_type": "code",
   "execution_count": 5,
   "id": "342ed44b",
   "metadata": {},
   "outputs": [
    {
     "name": "stdout",
     "output_type": "stream",
     "text": [
      "Data location: /Users/angira/Documents/Data\n"
     ]
    }
   ],
   "source": [
    "directory = os.path.join(os.path.expanduser('~'), 'Documents', 'Data')\n",
    "print('Data location:', directory)"
   ]
  },
  {
   "cell_type": "code",
   "execution_count": 8,
   "id": "4ecf55a9",
   "metadata": {},
   "outputs": [
    {
     "name": "stdout",
     "output_type": "stream",
     "text": [
      "Normalized data for 3-4 year olds (31, 367709, 152)\n",
      "Saved 3-4 year old data\n"
     ]
    }
   ],
   "source": [
    "# 3-4- year olds\n",
    "normalized_bold_34yrs = mask_trim_normalize(os.path.join(directory, '3-4-yrs', 'raw_subjects'), \n",
    "                                             subject_ids=range(1,32), \n",
    "                                             mask=group_gm_mask)\n",
    "\n",
    "print('Normalized data for 3-4 year olds', np.shape(normalized_bold_34yrs))\n",
    "np.save(os.path.join(directory, '3-4-yrs', '3-4-yrs_normalized_data_gm_mask.npy'), normalized_bold_34yrs)\n",
    "print('Saved 3-4 year old data')"
   ]
  },
  {
   "cell_type": "code",
   "execution_count": 7,
   "id": "7c32a5a0",
   "metadata": {},
   "outputs": [
    {
     "name": "stdout",
     "output_type": "stream",
     "text": [
      "Normalized data for 5 year olds (31, 367709, 152)\n",
      "Saved 5 year old data\n"
     ]
    }
   ],
   "source": [
    "# 5 year olds\n",
    "normalized_bold_5yrs = mask_trim_normalize(os.path.join(directory, '5-yrs', 'raw_subjects'), \n",
    "                                             subject_ids=range(32,63), \n",
    "                                             mask=group_gm_mask)\n",
    "\n",
    "print('Normalized data for 5 year olds', np.shape(normalized_bold_5yrs))\n",
    "np.save(os.path.join(directory, '5-yrs', '5-yrs_normalized_data_gm_mask.npy'), normalized_bold_5yrs)\n",
    "print('Saved 5 year old data')"
   ]
  },
  {
   "cell_type": "code",
   "execution_count": 7,
   "id": "9d282368",
   "metadata": {},
   "outputs": [
    {
     "name": "stdout",
     "output_type": "stream",
     "text": [
      "Normalized data for 7 year olds (23, 367709, 152)\n",
      "Saved 7 year old data\n"
     ]
    }
   ],
   "source": [
    "# 7 year olds\n",
    "ids_7yrs = [66, 67, 68, 69, 70, 71, 72, 73, 74, 75, 76, 79, 80, 81, 83, 84, 86, 88, 96, 99, 114, 116, 122]\n",
    "\n",
    "normalized_bold_7yrs = mask_trim_normalize(os.path.join(directory, '7-yrs', 'raw_subjects'), \n",
    "                                             subject_ids=ids_7yrs, \n",
    "                                             mask=group_gm_mask)\n",
    "\n",
    "print('Normalized data for 7 year olds', np.shape(normalized_bold_7yrs))\n",
    "np.save(os.path.join(directory, '7-yrs', '7-yrs_normalized_data_gm_mask.npy'), normalized_bold_7yrs)\n",
    "print('Saved 7 year old data')"
   ]
  },
  {
   "cell_type": "code",
   "execution_count": 15,
   "id": "b61b8a44",
   "metadata": {},
   "outputs": [
    {
     "name": "stdout",
     "output_type": "stream",
     "text": [
      "Normalized data for 8-12 year olds (34, 367709, 152)\n",
      "Saved 8-12 year old data\n"
     ]
    }
   ],
   "source": [
    "# 8-12 year olds\n",
    "ids_812yrs = [77, 78, 82, 85, 87, 89, 90, 91, 92, 93, 94, 95, 97, 98, 100, 101, 102, 103, \n",
    "               104, 105, 106, 107, 108, 109, 110, 111, 112, 113, 115, 117, 118, 119, 120, 121]\n",
    "normalized_bold_812yrs = mask_trim_normalize(os.path.join(directory, '8-12-yrs', 'raw_subjects'), \n",
    "                                             subject_ids=ids_812yrs, \n",
    "                                             mask=group_gm_mask)\n",
    "\n",
    "print('Normalized data for 8-12 year olds', np.shape(normalized_bold_812yrs))\n",
    "np.save(os.path.join(directory, '8-12-yrs', '8-12-yrs_normalized_data_gm_mask.npy'), normalized_bold_812yrs)\n",
    "print('Saved 8-12 year old data')"
   ]
  },
  {
   "cell_type": "code",
   "execution_count": 6,
   "id": "56a496f1",
   "metadata": {},
   "outputs": [
    {
     "name": "stdout",
     "output_type": "stream",
     "text": [
      "Normalized data for adults (33, 367709, 152)\n",
      "Saved adult data\n"
     ]
    }
   ],
   "source": [
    "# Adults\n",
    "normalized_bold_adults = mask_trim_normalize(os.path.join(directory, 'adults', 'raw_subjects'), \n",
    "                                             subject_ids=range(123,156), \n",
    "                                             mask=group_gm_mask)\n",
    "\n",
    "print('Normalized data for adults', np.shape(normalized_bold_adults))\n",
    "np.save(os.path.join(directory, 'adults', 'adults_normalized_data_gm_mask.npy'), normalized_bold_adults)\n",
    "print('Saved adult data')"
   ]
  },
  {
   "cell_type": "code",
   "execution_count": null,
   "id": "4ab6f822",
   "metadata": {},
   "outputs": [],
   "source": []
  }
 ],
 "metadata": {
  "kernelspec": {
   "display_name": "Python 3 (ipykernel)",
   "language": "python",
   "name": "python3"
  },
  "language_info": {
   "codemirror_mode": {
    "name": "ipython",
    "version": 3
   },
   "file_extension": ".py",
   "mimetype": "text/x-python",
   "name": "python",
   "nbconvert_exporter": "python",
   "pygments_lexer": "ipython3",
   "version": "3.7.13"
  }
 },
 "nbformat": 4,
 "nbformat_minor": 5
}
