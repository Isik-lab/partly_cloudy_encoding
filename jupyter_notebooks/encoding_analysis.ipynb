{
 "cells": [
  {
   "cell_type": "markdown",
   "id": "c213d34b",
   "metadata": {},
   "source": [
    "<h1>Encoding analysis</h1>"
   ]
  },
  {
   "cell_type": "code",
   "execution_count": 1,
   "id": "79594cfd",
   "metadata": {},
   "outputs": [
    {
     "data": {
      "application/javascript": [
       "IPython.notebook.set_autosave_interval(5000)"
      ]
     },
     "metadata": {},
     "output_type": "display_data"
    },
    {
     "name": "stdout",
     "output_type": "stream",
     "text": [
      "Autosaving every 5 seconds\n"
     ]
    }
   ],
   "source": [
    "# Imports\n",
    "import os \n",
    "import numpy as np\n",
    "\n",
    "import encoding_helpers as helpers\n",
    "\n",
    "%autosave 5"
   ]
  },
  {
   "cell_type": "markdown",
   "id": "c7d052c8",
   "metadata": {},
   "source": [
    "<h2>Load features and data</h2>"
   ]
  },
  {
   "cell_type": "code",
   "execution_count": 5,
   "id": "c09b5690",
   "metadata": {},
   "outputs": [
    {
     "name": "stdout",
     "output_type": "stream",
     "text": [
      "Subject group: 5-yrs\n"
     ]
    }
   ],
   "source": [
    "# Modify this cell to change subject group. Currently set to 8-12 years\n",
    "subject_group_str = '5-yrs'\n",
    "print('Subject group:', subject_group_str)"
   ]
  },
  {
   "cell_type": "code",
   "execution_count": 6,
   "id": "f4c89e5a",
   "metadata": {},
   "outputs": [
    {
     "name": "stdout",
     "output_type": "stream",
     "text": [
      "Data path: /Users/angira/Documents/Data\n"
     ]
    }
   ],
   "source": [
    "# Data path\n",
    "directory = os.path.join(os.path.expanduser('~'), 'Documents', 'Data')\n",
    "print('Data path:', directory)"
   ]
  },
  {
   "cell_type": "code",
   "execution_count": 7,
   "id": "fa77500f",
   "metadata": {},
   "outputs": [
    {
     "name": "stdout",
     "output_type": "stream",
     "text": [
      "Subject data: (34, 183213, 152)\n"
     ]
    }
   ],
   "source": [
    "# Load BOLD data\n",
    "bold_data = np.load(os.path.join(directory, subject_group_str, (subject_group_str+'_normalized_data.npy')))\n",
    "print('Subject data:', np.shape(bold_data))"
   ]
  },
  {
   "cell_type": "code",
   "execution_count": 8,
   "id": "c6a5e094",
   "metadata": {},
   "outputs": [
    {
     "name": "stdout",
     "output_type": "stream",
     "text": [
      "Social features: (152, 5)\n",
      "Motion energy features: (152, 19)\n"
     ]
    }
   ],
   "source": [
    "# Load features\n",
    "social_features = np.load(os.path.join(directory, 'features', 'social_normalized.npy'))\n",
    "print('Social features:', np.shape(social_features))\n",
    "\n",
    "moten_features = np.load(os.path.join(directory, 'features', 'moten_reduced19.npy'))\n",
    "print('Motion energy features:', np.shape(moten_features))"
   ]
  },
  {
   "cell_type": "code",
   "execution_count": 9,
   "id": "7017ab2a",
   "metadata": {},
   "outputs": [
    {
     "name": "stdout",
     "output_type": "stream",
     "text": [
      "Combined features: (152, 24)\n"
     ]
    }
   ],
   "source": [
    "# Combine features for use in model predictions\n",
    "\n",
    "combined_features = np.concatenate((social_features, moten_features), axis=1)\n",
    "print('Combined features:', np.shape(combined_features))"
   ]
  },
  {
   "cell_type": "markdown",
   "id": "1b7b0080",
   "metadata": {},
   "source": [
    "<h2>Generate test-train split</h2>"
   ]
  },
  {
   "cell_type": "code",
   "execution_count": 33,
   "id": "a832ec7a",
   "metadata": {},
   "outputs": [],
   "source": [
    "# ## test-train split with random states\n",
    "# from sklearn import model_selection\n",
    "# def get_continuous_split(data, start_index, end_index):\n",
    "#     \"\"\"\n",
    "#         Generates a test / train split using continuous segments of the movie. \n",
    "#         Takes in data of the shape [TRS x samples]\n",
    "#         Data should be divided using 0:30, 30:60, 60:90, 90:120, or 120: as test set.\n",
    "#         Returns train, test sets\n",
    "#     \"\"\"\n",
    "#     # Set testing set to match the indexes specified\n",
    "#     test = data[start_index:end_index]\n",
    "    \n",
    "#     # Concatenate remaining data into training data\n",
    "#     train = np.concatenate((data[:start_index], data[end_index:]), axis=0)\n",
    "    \n",
    "#     return train, test\n"
   ]
  },
  {
   "cell_type": "code",
   "execution_count": 10,
   "id": "55d1636e",
   "metadata": {},
   "outputs": [],
   "source": [
    "subject_data = np.swapaxes(bold_data[0], 0, 1)"
   ]
  },
  {
   "cell_type": "code",
   "execution_count": null,
   "id": "f83426ab",
   "metadata": {},
   "outputs": [],
   "source": [
    "# Random test / train split\n",
    "from sklearn import model_selection\n",
    "\n",
    "bold_train, bold_test, social_train, social_test, moten_train, moten_test = model_selection.train_test_split(\n",
    "subject_data, social_features, moten_features,test_size=0.2, random_state=4)\n",
    "\n",
    "combined_train, combined_test = model_selection.train_test_split(combined_features, test_size=0.2, random_state=4)"
   ]
  },
  {
   "cell_type": "code",
   "execution_count": 12,
   "id": "194c4528",
   "metadata": {},
   "outputs": [],
   "source": [
    "# Continuous test / train split\n",
    "social_train, social_test = helpers.get_continuous_split(social_features, start_index=120, end_index=152)\n",
    "moten_train, moten_test = helpers.get_continuous_split(moten_features, start_index=120, end_index=152)\n",
    "bold_train, bold_test = helpers.get_continuous_split(subject_data, start_index=120, end_index=152)\n",
    "combined_train, combined_test = helpers.get_continuous_split(combined_features, start_index=120, end_index=152)"
   ]
  },
  {
   "cell_type": "markdown",
   "id": "d3d3653a",
   "metadata": {},
   "source": [
    "<h2>Get encoding weights</h2>"
   ]
  },
  {
   "cell_type": "code",
   "execution_count": 55,
   "id": "165e9b3e",
   "metadata": {},
   "outputs": [
    {
     "name": "stdout",
     "output_type": "stream",
     "text": [
      "(24, 147260)\n"
     ]
    }
   ],
   "source": [
    "subject_weights = helpers.get_banded_weights([social_features, moten_features], \n",
    "                                             [social_train, moten_train],\n",
    "                                             [social_test, moten_test],\n",
    "                                             bold_train, bold_test)\n",
    "\n",
    "print(np.shape(subject_weights))"
   ]
  },
  {
   "cell_type": "code",
   "execution_count": 56,
   "id": "f6c396fc",
   "metadata": {},
   "outputs": [
    {
     "name": "stdout",
     "output_type": "stream",
     "text": [
      "(32, 147260)\n"
     ]
    }
   ],
   "source": [
    "subject_predictions = helpers.get_predictions_from_weights(combined_test, subject_weights)\n",
    "print(np.shape(subject_predictions))"
   ]
  },
  {
   "cell_type": "code",
   "execution_count": 57,
   "id": "e10ea935",
   "metadata": {},
   "outputs": [
    {
     "name": "stdout",
     "output_type": "stream",
     "text": [
      "(147260,)\n"
     ]
    }
   ],
   "source": [
    "subject_prediction_scores = helpers.get_prediction_scores(subject_predictions, bold_test)\n",
    "print(np.shape(subject_prediction_scores))"
   ]
  },
  {
   "cell_type": "code",
   "execution_count": null,
   "id": "ece13ef8",
   "metadata": {},
   "outputs": [],
   "source": []
  }
 ],
 "metadata": {
  "kernelspec": {
   "display_name": "Python 3",
   "language": "python",
   "name": "python3"
  },
  "language_info": {
   "codemirror_mode": {
    "name": "ipython",
    "version": 3
   },
   "file_extension": ".py",
   "mimetype": "text/x-python",
   "name": "python",
   "nbconvert_exporter": "python",
   "pygments_lexer": "ipython3",
   "version": "3.6.13"
  }
 },
 "nbformat": 4,
 "nbformat_minor": 5
}
