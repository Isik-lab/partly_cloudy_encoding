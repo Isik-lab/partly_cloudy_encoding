{
 "cells": [
  {
   "cell_type": "markdown",
   "id": "0ab1f25d",
   "metadata": {},
   "source": [
    "<h1>Predictions from individual features</h1>"
   ]
  },
  {
   "cell_type": "code",
   "execution_count": 15,
   "id": "3c90d49b",
   "metadata": {},
   "outputs": [
    {
     "data": {
      "application/javascript": [
       "IPython.notebook.set_autosave_interval(5000)"
      ]
     },
     "metadata": {},
     "output_type": "display_data"
    },
    {
     "name": "stdout",
     "output_type": "stream",
     "text": [
      "Autosaving every 5 seconds\n"
     ]
    }
   ],
   "source": [
    "# Functional imports\n",
    "import os \n",
    "import numpy as np\n",
    "\n",
    "from nibabel import load as load_mask\n",
    "from sklearn import model_selection\n",
    "\n",
    "from data_prep_helpers import make_vol\n",
    "from encoding_helpers import isolate_feature, get_predictions_from_weights, get_prediction_scores\n",
    "from plotting_helpers import plot_lateral_only, plot_lateral_only_with_vmax\n",
    "\n",
    "# Notebook specific imports\n",
    "import warnings\n",
    "import sys \n",
    "if not sys.warnoptions:\n",
    "    warnings.simplefilter(\"ignore\")\n",
    "%autosave 5"
   ]
  },
  {
   "cell_type": "markdown",
   "id": "8fdc681d",
   "metadata": {},
   "source": [
    "<h2>Setup</h2>"
   ]
  },
  {
   "cell_type": "code",
   "execution_count": 12,
   "id": "a2712ced",
   "metadata": {},
   "outputs": [
    {
     "name": "stdout",
     "output_type": "stream",
     "text": [
      "Data location: /Users/angira/Documents/Data\n",
      "Mask shape: (79, 95, 68)\n"
     ]
    }
   ],
   "source": [
    "# Set data location\n",
    "directory = os.path.join(os.path.expanduser('~'), 'Documents', 'Data')\n",
    "mask = load_mask(os.path.join(directory, 'group_mask.nii.gz'))\n",
    "\n",
    "print('Data location:', directory)\n",
    "print('Mask shape:', np.shape(mask))"
   ]
  },
  {
   "cell_type": "code",
   "execution_count": 13,
   "id": "18ed6f1e",
   "metadata": {},
   "outputs": [
    {
     "name": "stdout",
     "output_type": "stream",
     "text": [
      "Adult BOLD data: (33, 133707, 152)\n",
      "5 year old BOLD data: (34, 163042, 152)\n"
     ]
    }
   ],
   "source": [
    "# Load BOLD data\n",
    "bold_adults = np.load(os.path.join(directory, 'adults', 'adults_normalized_data.npy'))\n",
    "print('Adult BOLD data:', np.shape(bold_adults))\n",
    "\n",
    "bold_5yrs = np.load(os.path.join(directory, '5-yrs', '5-yrs_normalized_data.npy'))\n",
    "print('5 year old BOLD data:', np.shape(bold_5yrs))"
   ]
  },
  {
   "cell_type": "code",
   "execution_count": 14,
   "id": "fa5c209f",
   "metadata": {},
   "outputs": [
    {
     "name": "stdout",
     "output_type": "stream",
     "text": [
      "Adult model weights: (33, 24, 133707)\n",
      "5 year old model weights: (34, 24, 163042)\n"
     ]
    }
   ],
   "source": [
    "# Load weights\n",
    "weights_adults = np.load(os.path.join(directory, \n",
    "                                      'adults', \n",
    "                                      'encoding_results', \n",
    "                                      'unthresholded', \n",
    "                                      'adults_weights_random.npy'))\n",
    "print('Adult model weights:', np.shape(weights_adults))\n",
    "\n",
    "weights_5yrs = np.load(os.path.join(directory, \n",
    "                                      '5-yrs', \n",
    "                                      'encoding_results', \n",
    "                                      'unthresholded', \n",
    "                                      '5-yrs_weights_random.npy'))\n",
    "print('5 year old model weights:', np.shape(weights_5yrs))"
   ]
  },
  {
   "cell_type": "code",
   "execution_count": 16,
   "id": "453ac546",
   "metadata": {},
   "outputs": [
    {
     "name": "stdout",
     "output_type": "stream",
     "text": [
      "Combined features test: (31, 24)\n"
     ]
    }
   ],
   "source": [
    "# Load features\n",
    "\n",
    "social_features = np.load(os.path.join(directory, 'features', 'social_normalized.npy'))\n",
    "moten_features = np.load(os.path.join(directory, 'features', 'moten_reduced19.npy'))\n",
    "combined_features = np.concatenate((social_features, moten_features), axis=1)\n",
    "\n",
    "# Split features\n",
    "combined_train, combined_test = model_selection.train_test_split(combined_features, test_size=0.2, random_state=4)\n",
    "\n",
    "print('Combined features test:', np.shape(combined_test))"
   ]
  },
  {
   "cell_type": "code",
   "execution_count": 25,
   "id": "c65d87bf",
   "metadata": {},
   "outputs": [],
   "source": [
    "# Helper functions\n",
    "\n",
    "def get_feature_predictions(feature_index, features_test, bold_test, weights):\n",
    "    \"\"\"\n",
    "    Takes in model weights, BOLD data, and feature labels for held out data, then uses weights from a single\n",
    "    feature to generate and score predictions.\n",
    "    Returns subject-specific prediction scores using the single feature's weights.\n",
    "    \n",
    "    \"\"\"\n",
    "    feature_only_weights = isolate_feature(weights, start_index=feature_index, end_index=(feature_index+1))\n",
    "    predictions = get_predictions_from_weights(features_test, feature_only_weights)\n",
    "    return get_prediction_scores(predictions, bold_test)\n"
   ]
  },
  {
   "cell_type": "markdown",
   "id": "b4f0ba23",
   "metadata": {},
   "source": [
    "<h2>Social interaction</h2>"
   ]
  },
  {
   "cell_type": "code",
   "execution_count": 24,
   "id": "4753342e",
   "metadata": {},
   "outputs": [
    {
     "ename": "NameError",
     "evalue": "name 'features_test' is not defined",
     "output_type": "error",
     "traceback": [
      "\u001b[0;31m---------------------------------------------------------------------------\u001b[0m",
      "\u001b[0;31mNameError\u001b[0m                                 Traceback (most recent call last)",
      "\u001b[0;32m<ipython-input-24-26782f2b7fe5>\u001b[0m in \u001b[0;36m<module>\u001b[0;34m\u001b[0m\n\u001b[1;32m     16\u001b[0m                                                   \u001b[0mfeature_test\u001b[0m\u001b[0;34m=\u001b[0m\u001b[0mcombined_test\u001b[0m\u001b[0;34m,\u001b[0m\u001b[0;34m\u001b[0m\u001b[0;34m\u001b[0m\u001b[0m\n\u001b[1;32m     17\u001b[0m                                                   \u001b[0mbold_test\u001b[0m\u001b[0;34m=\u001b[0m\u001b[0msubject_test\u001b[0m\u001b[0;34m,\u001b[0m\u001b[0;34m\u001b[0m\u001b[0;34m\u001b[0m\u001b[0m\n\u001b[0;32m---> 18\u001b[0;31m                                                   weights=subject_weights)\n\u001b[0m\u001b[1;32m     19\u001b[0m     \u001b[0minteraction_predictions_adults\u001b[0m\u001b[0;34m.\u001b[0m\u001b[0mappend\u001b[0m\u001b[0;34m(\u001b[0m\u001b[0msubject_predictions\u001b[0m\u001b[0;34m)\u001b[0m\u001b[0;34m\u001b[0m\u001b[0;34m\u001b[0m\u001b[0m\n\u001b[1;32m     20\u001b[0m     \u001b[0mprint\u001b[0m\u001b[0;34m(\u001b[0m\u001b[0;34m'Appended subject'\u001b[0m\u001b[0;34m,\u001b[0m \u001b[0msubject\u001b[0m\u001b[0;34m)\u001b[0m\u001b[0;34m\u001b[0m\u001b[0;34m\u001b[0m\u001b[0m\n",
      "\u001b[0;32m<ipython-input-23-c5044e925653>\u001b[0m in \u001b[0;36mget_feature_predictions\u001b[0;34m(feature_index, feature_test, bold_test, weights)\u001b[0m\n\u001b[1;32m      9\u001b[0m     \"\"\"\n\u001b[1;32m     10\u001b[0m     \u001b[0mfeature_only_weights\u001b[0m \u001b[0;34m=\u001b[0m \u001b[0misolate_feature\u001b[0m\u001b[0;34m(\u001b[0m\u001b[0mweights\u001b[0m\u001b[0;34m,\u001b[0m \u001b[0mstart_index\u001b[0m\u001b[0;34m=\u001b[0m\u001b[0mfeature_index\u001b[0m\u001b[0;34m,\u001b[0m \u001b[0mend_index\u001b[0m\u001b[0;34m=\u001b[0m\u001b[0;34m(\u001b[0m\u001b[0mfeature_index\u001b[0m\u001b[0;34m+\u001b[0m\u001b[0;36m1\u001b[0m\u001b[0;34m)\u001b[0m\u001b[0;34m)\u001b[0m\u001b[0;34m\u001b[0m\u001b[0;34m\u001b[0m\u001b[0m\n\u001b[0;32m---> 11\u001b[0;31m     \u001b[0mpredictions\u001b[0m \u001b[0;34m=\u001b[0m \u001b[0mget_predictions_from_weights\u001b[0m\u001b[0;34m(\u001b[0m\u001b[0mfeatures_test\u001b[0m\u001b[0;34m,\u001b[0m \u001b[0mfeature_only_weights\u001b[0m\u001b[0;34m)\u001b[0m\u001b[0;34m\u001b[0m\u001b[0;34m\u001b[0m\u001b[0m\n\u001b[0m\u001b[1;32m     12\u001b[0m     \u001b[0;32mreturn\u001b[0m \u001b[0mget_prediction_scores\u001b[0m\u001b[0;34m(\u001b[0m\u001b[0mpredictions\u001b[0m\u001b[0;34m,\u001b[0m \u001b[0mbold_test\u001b[0m\u001b[0;34m)\u001b[0m\u001b[0;34m\u001b[0m\u001b[0;34m\u001b[0m\u001b[0m\n",
      "\u001b[0;31mNameError\u001b[0m: name 'features_test' is not defined"
     ]
    }
   ],
   "source": [
    "# Adults\n",
    "interaction_predictions_adults = []\n",
    "\n",
    "for subject in range(len(bold_adults)):\n",
    "    # Reorient subject data so axes align with feature axes\n",
    "    subject_data = np.swapaxes(bold_adults[subject], 0, 1)\n",
    "    \n",
    "    # Generate test / train split for BOLD data\n",
    "    subject_train, subject_test = model_selection.train_test_split(subject_data, test_size=0.2, random_state=4)\n",
    "    \n",
    "    # Extract subject specific weights\n",
    "    subject_weights = weights_adults[subject]\n",
    "    \n",
    "    # Get feature specific predictions - Social interaction is index 1\n",
    "    subject_predictions = get_feature_predictions(feature_index=1, \n",
    "                                                  features_test=combined_test, \n",
    "                                                  bold_test=subject_test, \n",
    "                                                  weights=subject_weights)\n",
    "    interaction_predictions_adults.append(subject_predictions)\n",
    "    print('Appended subject', subject)\n",
    "\n",
    "print('Adult interaction predictions:', np.shape(interaction_predictions_adults))"
   ]
  },
  {
   "cell_type": "code",
   "execution_count": 4,
   "id": "05bef773",
   "metadata": {},
   "outputs": [],
   "source": [
    "# 5 years"
   ]
  },
  {
   "cell_type": "markdown",
   "id": "c7d4c7da",
   "metadata": {},
   "source": [
    "<h2>ToM</h2>"
   ]
  },
  {
   "cell_type": "code",
   "execution_count": 5,
   "id": "6844f55b",
   "metadata": {},
   "outputs": [],
   "source": [
    "# Adults"
   ]
  },
  {
   "cell_type": "code",
   "execution_count": 6,
   "id": "6350e712",
   "metadata": {},
   "outputs": [],
   "source": [
    "# 5 years"
   ]
  },
  {
   "cell_type": "markdown",
   "id": "4cdf023f",
   "metadata": {},
   "source": [
    "<h2>Faces</h2>"
   ]
  },
  {
   "cell_type": "code",
   "execution_count": 7,
   "id": "6066353d",
   "metadata": {},
   "outputs": [],
   "source": [
    "# Adults"
   ]
  },
  {
   "cell_type": "code",
   "execution_count": 8,
   "id": "2df1de9d",
   "metadata": {},
   "outputs": [],
   "source": [
    "# 5 years"
   ]
  },
  {
   "cell_type": "code",
   "execution_count": null,
   "id": "72e7e9bb",
   "metadata": {},
   "outputs": [],
   "source": []
  }
 ],
 "metadata": {
  "kernelspec": {
   "display_name": "Python 3",
   "language": "python",
   "name": "python3"
  },
  "language_info": {
   "codemirror_mode": {
    "name": "ipython",
    "version": 3
   },
   "file_extension": ".py",
   "mimetype": "text/x-python",
   "name": "python",
   "nbconvert_exporter": "python",
   "pygments_lexer": "ipython3",
   "version": "3.6.13"
  }
 },
 "nbformat": 4,
 "nbformat_minor": 5
}
