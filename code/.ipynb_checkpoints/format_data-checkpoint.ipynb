{
 "cells": [
  {
   "cell_type": "code",
   "execution_count": 1,
   "metadata": {},
   "outputs": [],
   "source": [
    "# Basic imports\n",
    "import os \n",
    "\n",
    "# Stats manipulation\n",
    "import numpy as np\n",
    "from sklearn import preprocessing\n",
    "\n",
    "# Brain packages\n",
    "import nibabel as nib\n",
    "\n",
    "# Helper functions\n",
    "import data_prep\n",
    "import encoding_helpers\n"
   ]
  },
  {
   "cell_type": "markdown",
   "metadata": {},
   "source": [
    "<h1>Load data</h1>"
   ]
  },
  {
   "cell_type": "code",
   "execution_count": 2,
   "metadata": {},
   "outputs": [
    {
     "name": "stdout",
     "output_type": "stream",
     "text": [
      "Data location: /home-1/ashirah1@jhu.edu/scratch/3-4-yrs_analysis/data\n"
     ]
    }
   ],
   "source": [
    "# 7 year olds\n",
    "# subject_ids=[66, 67, 68, 69, 70, 71, 72, 73, 74, 75, 76, 79, 80, 81, 83, 84, 86, 88, 96, 99, 114, 116, 122]\n",
    "# directory = os.path.join(os.path.expanduser('~'), 'scratch', '7-yrs_analysis', 'data')\n",
    "# group_mask = nib.load(os.path.join(directory,'7-yrs_mask.nii.gz'))\n",
    "# isc_thresholded = np.load(os.path.join(directory, '7-yrs_isc_thresholded.npy'))\n",
    "\n",
    "# 4 year olds\n",
    "subject_ids = [1, 2, 3, 4, 5, 10, 15, 18, 21, 24, 29, 30, 31]\n",
    "directory = os.path.join(os.path.expanduser('~'), 'scratch', '3-4-yrs_analysis', 'data')\n",
    "group_mask = nib.load(os.path.join(directory,'4-yrs_mask.nii.gz'))\n",
    "isc_thresholded = np.load(os.path.join(directory, '4-yrs_isc_thresholded.npy'))\n",
    "\n",
    "print('Data location:', directory)"
   ]
  },
  {
   "cell_type": "code",
   "execution_count": 3,
   "metadata": {},
   "outputs": [
    {
     "name": "stdout",
     "output_type": "stream",
     "text": [
      "Loaded BOLD data for 13 subjects\n"
     ]
    }
   ],
   "source": [
    "clean_data = data_prep.load_clean_data(subject_ids, directory)\n",
    "print('Loaded BOLD data for', len(clean_data), 'subjects')"
   ]
  },
  {
   "cell_type": "markdown",
   "metadata": {},
   "source": [
    "<h1>Apply ISC mask</h1>"
   ]
  },
  {
   "cell_type": "code",
   "execution_count": 4,
   "metadata": {},
   "outputs": [
    {
     "name": "stdout",
     "output_type": "stream",
     "text": [
      "Masked data with thresholded ISC values\n"
     ]
    }
   ],
   "source": [
    "masked_data = data_prep.apply_isc_mask(clean_data, isc_thresholded, group_mask)\n",
    "print('Masked data with thresholded ISC values')"
   ]
  },
  {
   "cell_type": "code",
   "execution_count": 9,
   "metadata": {},
   "outputs": [
    {
     "name": "stdout",
     "output_type": "stream",
     "text": [
      "Generated ISC NIFTI vol to use for plotting\n"
     ]
    }
   ],
   "source": [
    "isc_vol = data_prep.make_vol(isc_thresholded, group_mask)\n",
    "print('Generated ISC NIFTI vol to use for plotting')"
   ]
  },
  {
   "cell_type": "markdown",
   "metadata": {},
   "source": [
    "<h1>Trim blank TRs</h1>"
   ]
  },
  {
   "cell_type": "code",
   "execution_count": 5,
   "metadata": {},
   "outputs": [
    {
     "name": "stdout",
     "output_type": "stream",
     "text": [
      "Trimmed data shape: (13, 72058, 152)\n"
     ]
    }
   ],
   "source": [
    "# Trim blank TRS\n",
    "trimmed_data = data_prep.trim_blank_trs(masked_data)\n",
    "print('Trimmed data shape:', np.shape(trimmed_data))"
   ]
  },
  {
   "cell_type": "markdown",
   "metadata": {},
   "source": [
    "<h1>Normalize data</h1>"
   ]
  },
  {
   "cell_type": "code",
   "execution_count": 6,
   "metadata": {},
   "outputs": [
    {
     "name": "stdout",
     "output_type": "stream",
     "text": [
      "Normalized data shape: (13, 72058, 152)\n"
     ]
    }
   ],
   "source": [
    "normalized_data = data_prep.normalize_data(trimmed_data)\n",
    "print('Normalized data shape:', np.shape(normalized_data))"
   ]
  },
  {
   "cell_type": "markdown",
   "metadata": {},
   "source": [
    "<h1>Save ISC mask and data</h1>"
   ]
  },
  {
   "cell_type": "code",
   "execution_count": 7,
   "metadata": {},
   "outputs": [
    {
     "name": "stdout",
     "output_type": "stream",
     "text": [
      "Saved normalized data\n"
     ]
    }
   ],
   "source": [
    "np.save(os.path.join(directory, '4-yrs_normalized_data.npy'), normalized_data)\n",
    "print('Saved normalized data')"
   ]
  },
  {
   "cell_type": "code",
   "execution_count": 10,
   "metadata": {},
   "outputs": [
    {
     "name": "stdout",
     "output_type": "stream",
     "text": [
      "Saved mask\n"
     ]
    }
   ],
   "source": [
    "isc_vol.to_filename(os.path.join(directory, '4-yrs_isc_mask.nii.gz'))\n",
    "print('Saved mask')"
   ]
  },
  {
   "cell_type": "code",
   "execution_count": null,
   "metadata": {},
   "outputs": [],
   "source": []
  }
 ],
 "metadata": {
  "kernelspec": {
   "display_name": "Python 3",
   "language": "python",
   "name": "python3"
  },
  "language_info": {
   "codemirror_mode": {
    "name": "ipython",
    "version": 3
   },
   "file_extension": ".py",
   "mimetype": "text/x-python",
   "name": "python",
   "nbconvert_exporter": "python",
   "pygments_lexer": "ipython3",
   "version": "3.6.13"
  }
 },
 "nbformat": 4,
 "nbformat_minor": 2
}
