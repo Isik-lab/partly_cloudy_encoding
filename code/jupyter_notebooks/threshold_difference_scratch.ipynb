{
 "cells": [
  {
   "cell_type": "code",
   "execution_count": 9,
   "id": "d87f0d8a",
   "metadata": {},
   "outputs": [
    {
     "data": {
      "application/javascript": [
       "IPython.notebook.set_autosave_interval(5000)"
      ]
     },
     "metadata": {},
     "output_type": "display_data"
    },
    {
     "name": "stdout",
     "output_type": "stream",
     "text": [
      "Autosaving every 5 seconds\n"
     ]
    }
   ],
   "source": [
    "# Functional imports\n",
    "import os \n",
    "import numpy as np\n",
    "import nibabel as nib\n",
    "\n",
    "from data_prep_helpers import make_vol\n",
    "import fdr_correction_helpers\n",
    "\n",
    "# Notebook specific imports\n",
    "import warnings\n",
    "import sys \n",
    "if not sys.warnoptions:\n",
    "    warnings.simplefilter(\"ignore\")\n",
    "%autosave 5"
   ]
  },
  {
   "cell_type": "code",
   "execution_count": 3,
   "id": "6e944aef",
   "metadata": {},
   "outputs": [
    {
     "name": "stdout",
     "output_type": "stream",
     "text": [
      "Data location: /Users/angira/Documents/Data\n"
     ]
    }
   ],
   "source": [
    "# Set data location\n",
    "directory = os.path.join(os.path.expanduser('~'), 'Documents', 'Data')\n",
    "print('Data location:', directory)"
   ]
  },
  {
   "cell_type": "code",
   "execution_count": 4,
   "id": "336f973e",
   "metadata": {},
   "outputs": [
    {
     "name": "stdout",
     "output_type": "stream",
     "text": [
      "Adult scores shape: (33, 367709)\n",
      "3-4 year old scores shape: (31, 367709)\n"
     ]
    }
   ],
   "source": [
    "# Load scores\n",
    "social_only_adults = np.load(os.path.join(\n",
    "    directory, 'adults', 'encoding_results', 'unthresholded', 'adults_social_only_scores_gm_mask.npy'))\n",
    "print('Adult scores shape:', np.shape(social_only_adults))\n",
    "\n",
    "social_only_34yrs = np.load(os.path.join(\n",
    "    directory, '3-4-yrs', 'encoding_results', 'unthresholded', '3-4-yrs_social_only_scores_gm_mask.npy'))\n",
    "print('3-4 year old scores shape:', np.shape(social_only_34yrs))"
   ]
  },
  {
   "cell_type": "code",
   "execution_count": 10,
   "id": "9f8ae094",
   "metadata": {},
   "outputs": [
    {
     "name": "stdout",
     "output_type": "stream",
     "text": [
      "Appended subject 0\n",
      "Appended subject 1\n",
      "Appended subject 2\n",
      "Appended subject 3\n",
      "Appended subject 4\n",
      "Appended subject 5\n",
      "Appended subject 6\n",
      "Appended subject 7\n",
      "Appended subject 8\n",
      "Appended subject 9\n",
      "Appended subject 10\n",
      "Appended subject 11\n",
      "Appended subject 12\n",
      "Appended subject 13\n",
      "Appended subject 14\n",
      "Appended subject 15\n",
      "Appended subject 16\n",
      "Appended subject 17\n",
      "Appended subject 18\n",
      "Appended subject 19\n",
      "Appended subject 20\n",
      "Appended subject 21\n",
      "Appended subject 22\n",
      "Appended subject 23\n",
      "Appended subject 24\n",
      "Appended subject 25\n",
      "Appended subject 26\n",
      "Appended subject 27\n",
      "Appended subject 28\n",
      "Appended subject 29\n",
      "Appended subject 30\n",
      "Appended subject 31\n",
      "Appended subject 32\n",
      "Appended subject 0\n",
      "Appended subject 1\n",
      "Appended subject 2\n",
      "Appended subject 3\n",
      "Appended subject 4\n",
      "Appended subject 5\n",
      "Appended subject 6\n",
      "Appended subject 7\n",
      "Appended subject 8\n",
      "Appended subject 9\n",
      "Appended subject 10\n",
      "Appended subject 11\n",
      "Appended subject 12\n",
      "Appended subject 13\n",
      "Appended subject 14\n",
      "Appended subject 15\n",
      "Appended subject 16\n",
      "Appended subject 17\n",
      "Appended subject 18\n",
      "Appended subject 19\n",
      "Appended subject 20\n",
      "Appended subject 21\n",
      "Appended subject 22\n",
      "Appended subject 23\n",
      "Appended subject 24\n",
      "Appended subject 25\n",
      "Appended subject 26\n",
      "Appended subject 27\n",
      "Appended subject 28\n",
      "Appended subject 29\n",
      "Appended subject 30\n",
      "Completed permutation\n",
      "Appended subject 0\n",
      "Appended subject 1\n",
      "Appended subject 2\n",
      "Appended subject 3\n",
      "Appended subject 4\n",
      "Appended subject 5\n",
      "Appended subject 6\n",
      "Appended subject 7\n",
      "Appended subject 8\n",
      "Appended subject 9\n",
      "Appended subject 10\n",
      "Appended subject 11\n",
      "Appended subject 12\n",
      "Appended subject 13\n",
      "Appended subject 14\n",
      "Appended subject 15\n",
      "Appended subject 16\n",
      "Appended subject 17\n",
      "Appended subject 18\n",
      "Appended subject 19\n",
      "Appended subject 20\n",
      "Appended subject 21\n",
      "Appended subject 22\n",
      "Appended subject 23\n",
      "Appended subject 24\n",
      "Appended subject 25\n",
      "Appended subject 26\n",
      "Appended subject 27\n",
      "Appended subject 28\n",
      "Appended subject 29\n",
      "Appended subject 30\n",
      "Appended subject 31\n",
      "Appended subject 32\n",
      "Appended subject 0\n",
      "Appended subject 1\n",
      "Appended subject 2\n",
      "Appended subject 3\n",
      "Appended subject 4\n",
      "Appended subject 5\n",
      "Appended subject 6\n",
      "Appended subject 7\n",
      "Appended subject 8\n",
      "Appended subject 9\n",
      "Appended subject 10\n",
      "Appended subject 11\n",
      "Appended subject 12\n",
      "Appended subject 13\n",
      "Appended subject 14\n",
      "Appended subject 15\n",
      "Appended subject 16\n",
      "Appended subject 17\n",
      "Appended subject 18\n",
      "Appended subject 19\n",
      "Appended subject 20\n",
      "Appended subject 21\n",
      "Appended subject 22\n",
      "Appended subject 23\n",
      "Appended subject 24\n",
      "Appended subject 25\n",
      "Appended subject 26\n",
      "Appended subject 27\n",
      "Appended subject 28\n",
      "Appended subject 29\n",
      "Appended subject 30\n",
      "Completed permutation\n",
      "(367709, 2)\n"
     ]
    }
   ],
   "source": [
    "group1 = social_only_adults\n",
    "group2 = social_only_34yrs\n",
    "null_dist = []\n",
    "for i in range(2):\n",
    "    flipped_group1= []\n",
    "    for subject in range(len(group1)):\n",
    "        flipped_group1.append(fdr_correction_helpers.rand_sign_flip(group1[subject]))\n",
    "        print('Appended subject', subject)\n",
    "\n",
    "    flipped_group2= []\n",
    "    for subject in range(len(group2)):\n",
    "        flipped_group2.append(fdr_correction_helpers.rand_sign_flip(group2[subject]))\n",
    "        print('Appended subject', subject)\n",
    "\n",
    "    # Calculate difference in means\n",
    "    null_dist.append(np.subtract(np.mean(flipped_group1, axis=0), np.mean(flipped_group2, axis=0)))\n",
    "    print('Completed permutation')\n",
    "null_dist = np.swapaxes(null_dist, 0, 1)\n",
    "print(np.shape(null_dist))"
   ]
  },
  {
   "cell_type": "code",
   "execution_count": 12,
   "id": "902c0916",
   "metadata": {},
   "outputs": [
    {
     "name": "stdout",
     "output_type": "stream",
     "text": [
      "(367709, 2)\n",
      "Saved fake null dists successfully\n"
     ]
    }
   ],
   "source": [
    "print(np.shape(null_dist))\n",
    "np.save(os.path.join(directory, 'null_dists', 'null_dist1.npy'), null_dist)\n",
    "np.save(os.path.join(directory, 'null_dists', 'null_dist2.npy'), null_dist)\n",
    "np.save(os.path.join(directory, 'null_dists', 'null_dist3.npy'), null_dist)\n",
    "print('Saved fake null dists successfully')"
   ]
  },
  {
   "cell_type": "code",
   "execution_count": 23,
   "id": "d9cc3a79",
   "metadata": {},
   "outputs": [
    {
     "name": "stdout",
     "output_type": "stream",
     "text": [
      "discarding file:  .DS_Store\n",
      "(367709, 6)\n"
     ]
    }
   ],
   "source": [
    "file_directory = os.path.join(directory, 'null_dists')\n",
    "all_files = os.listdir(file_directory)\n",
    "\n",
    "distributions = []\n",
    "\n",
    "# Ensure only .npy files are stored (remove .DS_Store, etc)\n",
    "for filename in all_files:  \n",
    "    if filename[-4:] in ('.npy'):\n",
    "        dist_name = os.path.join(file_directory, filename)\n",
    "        dist = np.load(dist_name)\n",
    "        distributions.append(dist)\n",
    "    else:\n",
    "        print('discarding file: ', filename)\n",
    "\n",
    "# Ensure formatting such that iteration is over dists, not voxels\n",
    "distributions = np.swapaxes(distributions, 1, 2)\n",
    "\n",
    "# Perform concatenation\n",
    "concatenated_dist = []\n",
    "for i in range(len(distributions)):\n",
    "    for dist in distributions[i]:\n",
    "        concatenated_dist.append(dist) \n",
    "\n",
    "return np.swapaxes(concatenated_dist, 0, 1)\n",
    "print(np.shape(concatenated_dist))"
   ]
  },
  {
   "cell_type": "code",
   "execution_count": 22,
   "id": "2b5caa8b",
   "metadata": {},
   "outputs": [
    {
     "name": "stdout",
     "output_type": "stream",
     "text": [
      "(367709, 6)\n"
     ]
    }
   ],
   "source": []
  },
  {
   "cell_type": "code",
   "execution_count": null,
   "id": "dbb3fb72",
   "metadata": {},
   "outputs": [],
   "source": []
  }
 ],
 "metadata": {
  "kernelspec": {
   "display_name": "Python 3 (ipykernel)",
   "language": "python",
   "name": "python3"
  },
  "language_info": {
   "codemirror_mode": {
    "name": "ipython",
    "version": 3
   },
   "file_extension": ".py",
   "mimetype": "text/x-python",
   "name": "python",
   "nbconvert_exporter": "python",
   "pygments_lexer": "ipython3",
   "version": "3.7.13"
  }
 },
 "nbformat": 4,
 "nbformat_minor": 5
}
